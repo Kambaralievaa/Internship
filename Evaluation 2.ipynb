{
 "cells": [
  {
   "cell_type": "markdown",
   "metadata": {
    "id": "cDjkYFnDODCG"
   },
   "source": [
    "## Подготовка модели к передаче"
   ]
  },
  {
   "cell_type": "markdown",
   "metadata": {
    "id": "6npkrsgiOSuA"
   },
   "source": [
    "В этом практическом задании два обязательных и одна дополнительная задача. \n",
    "<br>\n",
    "*Обязательные задачи* помогут проверить, что вы действительно усвоили материал. Если у вас всё получилось, можете переходить к следующей теме.\n",
    "<br>\n",
    "Удачи!"
   ]
  },
  {
   "cell_type": "markdown",
   "metadata": {
    "id": "I5kBJas7OWc3"
   },
   "source": [
    "Цели практического задания: \n",
    "\n",
    "1.   Потренироваться в работе с форматом `pickle`.\n",
    "2.   Потренироваться в работе моделей, загруженных из `pickle`.\n",
    "\n"
   ]
  },
  {
   "cell_type": "markdown",
   "metadata": {
    "id": "UjT-ToIuOmCu"
   },
   "source": [
    "## Обязательные задачи"
   ]
  },
  {
   "cell_type": "markdown",
   "metadata": {
    "id": "pYSG3t9ZTfws"
   },
   "source": [
    "**Задача 1. Функции dump, dumps**\n",
    "\n",
    "1. Инициализируйте словарь, в котором будет храниться три пары: (`first`: `a`); (`second`: `1.25`); (`third`: `[1,2,3]`).\n",
    "2. Запишите сериализованное представление этой переменной в файл `test_pickle.pickle`.\n",
    "3. С помощью функции `pickle.dumps` выведите байтовое представление этого словаря на экран.\n",
    "\n",
    "Документация по использованию функции [pickle.dumps](https://docs.python.org/3/library/pickle.html#pickle.dumps)"
   ]
  },
  {
   "cell_type": "code",
   "execution_count": null,
   "metadata": {
    "id": "R3oK3UigVBW2"
   },
   "outputs": [],
   "source": [
    "# Ваш код здесь"
   ]
  },
  {
   "cell_type": "markdown",
   "metadata": {
    "id": "7l2QrlIZXfO0"
   },
   "source": [
    "**Задача 2. Загрузка обученной модели из pickle**\n",
    "\n",
    "Для выполнения этого задания скачайте из дополнительных материалов файл `gensim.pickle`. \n",
    "Gensim — модуль обработки естественного языка. С его помощью можно обрабатывать тексты, создавать тематические модели текстов. В файлe `gensim.pickle` находится обученная для английского языка модель, которая умеет находить близкие по контексту/смыслу слова.\n",
    "\n",
    "1. Загрузите обученную модель из pickle файла в переменную `model`.\n",
    "2. Выведите её тип.\n",
    "3. Найдите ближайшие слова с помощью метода модели `model.most_similar()`. В качестве входного аргумента в метод передайте слово, для которого нужно найти ближайшие по контексту/смыслу слова. Например, для слова sun ближайшими будут sky, moon и тд.\n",
    "\n",
    "**Предупреждение**:\n",
    "\n",
    "Во время загрузки модели у вас могут появляться ошибки, которые сигнализируют, что для работы обученной модели не хватает каких-то пакетов. Чтобы модель заработала, установите эти пакеты с помощью pip. \n",
    "\n",
    "В случае с библиотекой gensim рекомендуется установка версии 3.8.3: `pip install gensim==3.8.3`."
   ]
  },
  {
   "cell_type": "code",
   "execution_count": null,
   "metadata": {
    "id": "kTxMQKrMzAvU"
   },
   "outputs": [],
   "source": [
    "# Ваш код здесь"
   ]
  },
  {
   "cell_type": "code",
   "execution_count": null,
   "metadata": {
    "id": "OkxY0ibzyLb_"
   },
   "outputs": [],
   "source": []
  },
  {
   "cell_type": "code",
   "execution_count": null,
   "metadata": {
    "id": "eOaxJAydN92k"
   },
   "outputs": [],
   "source": [
    "# Решение Задача 1\n",
    "import pickle\n",
    "\n",
    "dict_var = {\"first\": \"a\", \"second\": 2, \"third\": [1, 2, 3]}"
   ]
  },
  {
   "cell_type": "code",
   "execution_count": null,
   "metadata": {
    "id": "R0tCklfRVgCD"
   },
   "outputs": [],
   "source": [
    "filename = \"test_pickle.pickle\"\n",
    "\n",
    "with open(filename, 'wb') as file:\n",
    "    pickle.dump(dict_var, file)"
   ]
  },
  {
   "cell_type": "code",
   "execution_count": null,
   "metadata": {
    "colab": {
     "base_uri": "https://localhost:8080/"
    },
    "executionInfo": {
     "elapsed": 4,
     "status": "ok",
     "timestamp": 1651924302930,
     "user": {
      "displayName": "Yulduz Fattakhova",
      "userId": "14698334089562212742"
     },
     "user_tz": -180
    },
    "id": "MOtDjAoaWQd1",
    "outputId": "78652bc7-d980-4343-88bc-b74330e74c06"
   },
   "outputs": [
    {
     "name": "stdout",
     "output_type": "stream",
     "text": [
      "{'first': 'a', 'second': 2, 'third': [1, 2, 3]}\n"
     ]
    }
   ],
   "source": [
    "with open(filename, 'rb') as file:\n",
    "    print(pickle.load(file))"
   ]
  },
  {
   "cell_type": "code",
   "execution_count": null,
   "metadata": {
    "colab": {
     "base_uri": "https://localhost:8080/"
    },
    "executionInfo": {
     "elapsed": 3,
     "status": "ok",
     "timestamp": 1651924354028,
     "user": {
      "displayName": "Yulduz Fattakhova",
      "userId": "14698334089562212742"
     },
     "user_tz": -180
    },
    "id": "Lc7jmHEGTDYM",
    "outputId": "c105f368-62e7-4061-c939-173d3745209f"
   },
   "outputs": [
    {
     "name": "stdout",
     "output_type": "stream",
     "text": [
      "b'\\x80\\x03}q\\x00(X\\x05\\x00\\x00\\x00firstq\\x01X\\x01\\x00\\x00\\x00aq\\x02X\\x06\\x00\\x00\\x00secondq\\x03K\\x02X\\x05\\x00\\x00\\x00thirdq\\x04]q\\x05(K\\x01K\\x02K\\x03eu.'\n"
     ]
    }
   ],
   "source": [
    "print(pickle.dumps(dict_var))"
   ]
  },
  {
   "cell_type": "code",
   "execution_count": null,
   "metadata": {
    "id": "4Uce0H2TfIrC"
   },
   "outputs": [],
   "source": []
  },
  {
   "cell_type": "code",
   "execution_count": null,
   "metadata": {
    "id": "KKV-VOw4xHEj"
   },
   "outputs": [],
   "source": [
    "# Решение Задача 2\n",
    "with open('gensim.pickle', 'rb') as file:\n",
    "    gensim_model = pickle.load(file)"
   ]
  },
  {
   "cell_type": "code",
   "execution_count": null,
   "metadata": {
    "colab": {
     "base_uri": "https://localhost:8080/"
    },
    "executionInfo": {
     "elapsed": 256,
     "status": "ok",
     "timestamp": 1651948158563,
     "user": {
      "displayName": "Yulduz Fattakhova",
      "userId": "14698334089562212742"
     },
     "user_tz": -180
    },
    "id": "0qnDETu0xOQO",
    "outputId": "dee08f1c-791d-4c88-ee46-5b808e26c136"
   },
   "outputs": [
    {
     "data": {
      "text/plain": [
       "<gensim.models.keyedvectors.Word2VecKeyedVectors at 0x7f351748f150>"
      ]
     },
     "execution_count": 4,
     "metadata": {},
     "output_type": "execute_result"
    }
   ],
   "source": [
    "gensim_model"
   ]
  },
  {
   "cell_type": "code",
   "execution_count": null,
   "metadata": {
    "colab": {
     "base_uri": "https://localhost:8080/"
    },
    "executionInfo": {
     "elapsed": 4,
     "status": "ok",
     "timestamp": 1651948985282,
     "user": {
      "displayName": "Yulduz Fattakhova",
      "userId": "14698334089562212742"
     },
     "user_tz": -180
    },
    "id": "HSnzvHcwyHoT",
    "outputId": "eb9b9ba4-4b89-4f55-bb6d-ebcf0868486e"
   },
   "outputs": [
    {
     "data": {
      "text/plain": [
       "[('sky', 0.6636756658554077),\n",
       " ('moon', 0.6543077826499939),\n",
       " ('bright', 0.6353483200073242),\n",
       " ('cloud', 0.6326698660850525),\n",
       " ('blue', 0.626328706741333),\n",
       " ('hung', 0.6210830807685852),\n",
       " ('light', 0.6164969801902771),\n",
       " ('earth', 0.6038159728050232),\n",
       " ('hang', 0.6001001000404358),\n",
       " ('hot', 0.5976690649986267)]"
      ]
     },
     "execution_count": 8,
     "metadata": {},
     "output_type": "execute_result"
    }
   ],
   "source": [
    "gensim_model.most_similar('sun')"
   ]
  }
 ],
 "metadata": {
  "colab": {
   "collapsed_sections": [],
   "name": "Урок 4. Практика.ipynb",
   "provenance": []
  },
  "kernelspec": {
   "display_name": "Python 3 (ipykernel)",
   "language": "python",
   "name": "python3"
  },
  "language_info": {
   "codemirror_mode": {
    "name": "ipython",
    "version": 3
   },
   "file_extension": ".py",
   "mimetype": "text/x-python",
   "name": "python",
   "nbconvert_exporter": "python",
   "pygments_lexer": "ipython3",
   "version": "3.13.1"
  },
  "widgets": {
   "application/vnd.jupyter.widget-state+json": {
    "state": {},
    "version_major": 2,
    "version_minor": 0
   }
  }
 },
 "nbformat": 4,
 "nbformat_minor": 4
}
